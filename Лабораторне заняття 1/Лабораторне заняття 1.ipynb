Лабораторне заняття №1
1 Перестановки
1.1 Використовуючи власну функцію
In [2]:
def permute(A):
    if len(A)==1:
        return [tuple(A)]
    permutations = []
    for x in A:
        for y in permute(A-{x}):
            permutations.append((x,)+y)
    return permutations
In [3]:
A = {1, 2, 3}
In [4]:
# Використовуючи власну функцію
permute_all = set(permute(A))
print("Перестановки множини {}: {}".format(A,permute_all))
print("Кількість перестановок: ", len(permute_all))
Перестановки множини {1, 2, 3}: {(3, 1, 2), (1, 3, 2), (3, 2, 1), (2, 3, 1), (1, 2, 3), (2, 1, 3)}
Кількість перестановок:  6
1.2 Використовуючи бібліотеку itertools
In [5]:
from itertools import permutations
In [6]:
A = {1, 2, 3}
In [7]:
# Використовуючи бібліотеку itertools
permute_all = set(permutations(A))
print("Перестановки множини {}: {}".format(A,permute_all))
print("Кількість перестановок: ", len(permute_all))
Перестановки множини {1, 2, 3}: {(3, 1, 2), (1, 3, 2), (3, 2, 1), (2, 3, 1), (1, 2, 3), (2, 1, 3)}
Кількість перестановок:  6
1.3 Задача
Виведіть всі можливі перестановки та порахуйте їх кількість від таких множин:

{1, 3, 5}
{1, 2, 3, 4}
{1, 2, 2, 1}
Порахуйте кількість перестановок таких множин:

{1, 2, 3, 4, 5}
{1, 2, 3, 4, 5, 6, 7}
{1, 3, 5, 7, 9, 11, 13, 15, 17, 19}
Зауваження. Спробуйте задати множину $\{1, 2, 2, 1\}$ у вигляді списку, тобто $A = [1, 2, 2, 1]$.

In [9]:
# Місце для Вашого коду
for tmp in [[1, 3, 5], 
            [1, 2, 3, 4], 
            [1, 2, 2, 1],]:
    perms = set(permutations(tmp))
    print("\nall possible permutations for {}:".format(tmp))
    print(perms)
    print("amount =", len(perms))

for tmp in [[1, 2, 3, 4, 5], 
            [1, 2, 3, 4, 5, 6, 7], 
            [1, 3, 5, 7, 9, 11, 13, 15, 17, 19]]:
    print("\namount of all possible permutations for {}: {}".format(tmp, len(set(permutations(tmp)))))
all possible permutations for [1, 3, 5]:
{(3, 5, 1), (5, 3, 1), (1, 5, 3), (3, 1, 5), (1, 3, 5), (5, 1, 3)}
amount = 6

all possible permutations for [1, 2, 3, 4]:
{(4, 1, 2, 3), (1, 3, 2, 4), (3, 4, 1, 2), (1, 4, 2, 3), (4, 2, 3, 1), (2, 4, 1, 3), (4, 3, 1, 2), (2, 1, 3, 4), (3, 1, 4, 2), (3, 2, 4, 1), (1, 3, 4, 2), (1, 2, 4, 3), (2, 4, 3, 1), (3, 1, 2, 4), (4, 1, 3, 2), (2, 3, 1, 4), (4, 2, 1, 3), (1, 2, 3, 4), (1, 4, 3, 2), (3, 4, 2, 1), (2, 3, 4, 1), (4, 3, 2, 1), (3, 2, 1, 4), (2, 1, 4, 3)}
amount = 24

all possible permutations for [1, 2, 2, 1]:
{(1, 2, 1, 2), (1, 1, 2, 2), (2, 1, 2, 1), (2, 2, 1, 1), (2, 1, 1, 2), (1, 2, 2, 1)}
amount = 6

amount of all possible permutations for [1, 2, 3, 4, 5]: 120

amount of all possible permutations for [1, 2, 3, 4, 5, 6, 7]: 5040

amount of all possible permutations for [1, 3, 5, 7, 9, 11, 13, 15, 17, 19]: 3628800
1.4 Задача
Виведіть всі можливі перестановки без нерухомих точок та порахуйте їх кількість від таких множин:

{1, 2, 3}
{1, 2, 3, 4}
{1, 3, 5, 7}
{1, 2, 2, 1}
Перестановка без нерухомих точок - це така перестановка, в якій позиція кожного елементу не збігається з його позицією в початковій множині. Приклад. Для множини {1, 2, 3, 4, 5}:

{4, 1, 5, 2, 3} - перестановка без нерухомих точок
{4, 2, 1, 3, 5} - перестановка з нерухомими точками
In [10]:
# Місце для Вашого коду
for tmp in [[1, 2, 3], 
            [1, 2, 3, 4],
            [1, 3, 5, 7], 
            [1, 2, 2, 1]]:
    used = set()
    print("all possible permutations for {} without fixed points: ".format(tmp))
    for el in permutations(tmp):
        if el in used:
            continue
        else:
            used.add(el)
            flag = True
            for compare in zip(tmp, el):
                if compare[0] == compare[1]:
                    flag = False
                    break
            if flag: 
                print(el)
all possible permutations for [1, 2, 3] without fixed points: 
(2, 3, 1)
(3, 1, 2)
all possible permutations for [1, 2, 3, 4] without fixed points: 
(2, 1, 4, 3)
(2, 3, 4, 1)
(2, 4, 1, 3)
(3, 1, 4, 2)
(3, 4, 1, 2)
(3, 4, 2, 1)
(4, 1, 2, 3)
(4, 3, 1, 2)
(4, 3, 2, 1)
all possible permutations for [1, 3, 5, 7] without fixed points: 
(3, 1, 7, 5)
(3, 5, 7, 1)
(3, 7, 1, 5)
(5, 1, 7, 3)
(5, 7, 1, 3)
(5, 7, 3, 1)
(7, 1, 3, 5)
(7, 5, 1, 3)
(7, 5, 3, 1)
all possible permutations for [1, 2, 2, 1] without fixed points: 
(2, 1, 1, 2)
1.5 Задача
Виведіть всі можливі перестановки, в яких перші $4$ елементи зростають, а наступні спадають, та порахуйте їх кількість від таких множин:

{1, 2, 3, 4, 5, 6, 7, 8}
{1, 2, 3, 4, 5, 6, 7, 8, 9, 10}
Зауваження. Нехай перестановка $\pi = \left( \sigma_1, \sigma_2, \sigma_3, \sigma_4, \sigma_5, \sigma_6, \sigma_7, \sigma_8 \right)$. Тоді має виконуватися така умова:$$
  \sigma_1 &lt; \sigma_2 &lt; \sigma_3 &lt; \sigma_4 &gt; \sigma_5 &gt; \sigma_6 &gt; \sigma_7 &gt; \sigma_8.
$$

In [11]:
# Місце для Вашого коду
for tmp in [[1, 2, 3, 4, 5, 6, 7, 8],
            [1, 2, 3, 4, 5, 6, 7, 8, 9, 10]]:
    print("\nall possible permutaions for {} where the first 4 elements increase and other decrease:")
    j = 0
    for el in permutations(tmp):
        succ1 = True
        succ2 = True
        for i in range(3):
            if el[i] > el[i+1]:
                succ1 = False
                break
        for i in range(3, len(el)-1):
            if el[i] < el[i+1]:
                succ2 = False
                break
        if succ1 and succ2:
            j += 1
            print(el)
    print("amount:", j)
all possible permutaions for {} where the first 4 elements increase and other decrease:
(1, 2, 3, 8, 7, 6, 5, 4)
(1, 2, 4, 8, 7, 6, 5, 3)
(1, 2, 5, 8, 7, 6, 4, 3)
(1, 2, 6, 8, 7, 5, 4, 3)
(1, 2, 7, 8, 6, 5, 4, 3)
(1, 3, 4, 8, 7, 6, 5, 2)
(1, 3, 5, 8, 7, 6, 4, 2)
(1, 3, 6, 8, 7, 5, 4, 2)
(1, 3, 7, 8, 6, 5, 4, 2)
(1, 4, 5, 8, 7, 6, 3, 2)
(1, 4, 6, 8, 7, 5, 3, 2)
(1, 4, 7, 8, 6, 5, 3, 2)
(1, 5, 6, 8, 7, 4, 3, 2)
(1, 5, 7, 8, 6, 4, 3, 2)
(1, 6, 7, 8, 5, 4, 3, 2)
(2, 3, 4, 8, 7, 6, 5, 1)
(2, 3, 5, 8, 7, 6, 4, 1)
(2, 3, 6, 8, 7, 5, 4, 1)
(2, 3, 7, 8, 6, 5, 4, 1)
(2, 4, 5, 8, 7, 6, 3, 1)
(2, 4, 6, 8, 7, 5, 3, 1)
(2, 4, 7, 8, 6, 5, 3, 1)
(2, 5, 6, 8, 7, 4, 3, 1)
(2, 5, 7, 8, 6, 4, 3, 1)
(2, 6, 7, 8, 5, 4, 3, 1)
(3, 4, 5, 8, 7, 6, 2, 1)
(3, 4, 6, 8, 7, 5, 2, 1)
(3, 4, 7, 8, 6, 5, 2, 1)
(3, 5, 6, 8, 7, 4, 2, 1)
(3, 5, 7, 8, 6, 4, 2, 1)
(3, 6, 7, 8, 5, 4, 2, 1)
(4, 5, 6, 8, 7, 3, 2, 1)
(4, 5, 7, 8, 6, 3, 2, 1)
(4, 6, 7, 8, 5, 3, 2, 1)
(5, 6, 7, 8, 4, 3, 2, 1)
amount: 35

all possible permutaions for {} where the first 4 elements increase and other decrease:
(1, 2, 3, 10, 9, 8, 7, 6, 5, 4)
(1, 2, 4, 10, 9, 8, 7, 6, 5, 3)
(1, 2, 5, 10, 9, 8, 7, 6, 4, 3)
(1, 2, 6, 10, 9, 8, 7, 5, 4, 3)
(1, 2, 7, 10, 9, 8, 6, 5, 4, 3)
(1, 2, 8, 10, 9, 7, 6, 5, 4, 3)
(1, 2, 9, 10, 8, 7, 6, 5, 4, 3)
(1, 3, 4, 10, 9, 8, 7, 6, 5, 2)
(1, 3, 5, 10, 9, 8, 7, 6, 4, 2)
(1, 3, 6, 10, 9, 8, 7, 5, 4, 2)
(1, 3, 7, 10, 9, 8, 6, 5, 4, 2)
(1, 3, 8, 10, 9, 7, 6, 5, 4, 2)
(1, 3, 9, 10, 8, 7, 6, 5, 4, 2)
(1, 4, 5, 10, 9, 8, 7, 6, 3, 2)
(1, 4, 6, 10, 9, 8, 7, 5, 3, 2)
(1, 4, 7, 10, 9, 8, 6, 5, 3, 2)
(1, 4, 8, 10, 9, 7, 6, 5, 3, 2)
(1, 4, 9, 10, 8, 7, 6, 5, 3, 2)
(1, 5, 6, 10, 9, 8, 7, 4, 3, 2)
(1, 5, 7, 10, 9, 8, 6, 4, 3, 2)
(1, 5, 8, 10, 9, 7, 6, 4, 3, 2)
(1, 5, 9, 10, 8, 7, 6, 4, 3, 2)
(1, 6, 7, 10, 9, 8, 5, 4, 3, 2)
(1, 6, 8, 10, 9, 7, 5, 4, 3, 2)
(1, 6, 9, 10, 8, 7, 5, 4, 3, 2)
(1, 7, 8, 10, 9, 6, 5, 4, 3, 2)
(1, 7, 9, 10, 8, 6, 5, 4, 3, 2)
(1, 8, 9, 10, 7, 6, 5, 4, 3, 2)
(2, 3, 4, 10, 9, 8, 7, 6, 5, 1)
(2, 3, 5, 10, 9, 8, 7, 6, 4, 1)
(2, 3, 6, 10, 9, 8, 7, 5, 4, 1)
(2, 3, 7, 10, 9, 8, 6, 5, 4, 1)
(2, 3, 8, 10, 9, 7, 6, 5, 4, 1)
(2, 3, 9, 10, 8, 7, 6, 5, 4, 1)
(2, 4, 5, 10, 9, 8, 7, 6, 3, 1)
(2, 4, 6, 10, 9, 8, 7, 5, 3, 1)
(2, 4, 7, 10, 9, 8, 6, 5, 3, 1)
(2, 4, 8, 10, 9, 7, 6, 5, 3, 1)
(2, 4, 9, 10, 8, 7, 6, 5, 3, 1)
(2, 5, 6, 10, 9, 8, 7, 4, 3, 1)
(2, 5, 7, 10, 9, 8, 6, 4, 3, 1)
(2, 5, 8, 10, 9, 7, 6, 4, 3, 1)
(2, 5, 9, 10, 8, 7, 6, 4, 3, 1)
(2, 6, 7, 10, 9, 8, 5, 4, 3, 1)
(2, 6, 8, 10, 9, 7, 5, 4, 3, 1)
(2, 6, 9, 10, 8, 7, 5, 4, 3, 1)
(2, 7, 8, 10, 9, 6, 5, 4, 3, 1)
(2, 7, 9, 10, 8, 6, 5, 4, 3, 1)
(2, 8, 9, 10, 7, 6, 5, 4, 3, 1)
(3, 4, 5, 10, 9, 8, 7, 6, 2, 1)
(3, 4, 6, 10, 9, 8, 7, 5, 2, 1)
(3, 4, 7, 10, 9, 8, 6, 5, 2, 1)
(3, 4, 8, 10, 9, 7, 6, 5, 2, 1)
(3, 4, 9, 10, 8, 7, 6, 5, 2, 1)
(3, 5, 6, 10, 9, 8, 7, 4, 2, 1)
(3, 5, 7, 10, 9, 8, 6, 4, 2, 1)
(3, 5, 8, 10, 9, 7, 6, 4, 2, 1)
(3, 5, 9, 10, 8, 7, 6, 4, 2, 1)
(3, 6, 7, 10, 9, 8, 5, 4, 2, 1)
(3, 6, 8, 10, 9, 7, 5, 4, 2, 1)
(3, 6, 9, 10, 8, 7, 5, 4, 2, 1)
(3, 7, 8, 10, 9, 6, 5, 4, 2, 1)
(3, 7, 9, 10, 8, 6, 5, 4, 2, 1)
(3, 8, 9, 10, 7, 6, 5, 4, 2, 1)
(4, 5, 6, 10, 9, 8, 7, 3, 2, 1)
(4, 5, 7, 10, 9, 8, 6, 3, 2, 1)
(4, 5, 8, 10, 9, 7, 6, 3, 2, 1)
(4, 5, 9, 10, 8, 7, 6, 3, 2, 1)
(4, 6, 7, 10, 9, 8, 5, 3, 2, 1)
(4, 6, 8, 10, 9, 7, 5, 3, 2, 1)
(4, 6, 9, 10, 8, 7, 5, 3, 2, 1)
(4, 7, 8, 10, 9, 6, 5, 3, 2, 1)
(4, 7, 9, 10, 8, 6, 5, 3, 2, 1)
(4, 8, 9, 10, 7, 6, 5, 3, 2, 1)
(5, 6, 7, 10, 9, 8, 4, 3, 2, 1)
(5, 6, 8, 10, 9, 7, 4, 3, 2, 1)
(5, 6, 9, 10, 8, 7, 4, 3, 2, 1)
(5, 7, 8, 10, 9, 6, 4, 3, 2, 1)
(5, 7, 9, 10, 8, 6, 4, 3, 2, 1)
(5, 8, 9, 10, 7, 6, 4, 3, 2, 1)
(6, 7, 8, 10, 9, 5, 4, 3, 2, 1)
(6, 7, 9, 10, 8, 5, 4, 3, 2, 1)
(6, 8, 9, 10, 7, 5, 4, 3, 2, 1)
(7, 8, 9, 10, 6, 5, 4, 3, 2, 1)
amount: 84
2 Часткові перестановки
2.1 Використовуючи бібліотеку itertools
In [12]:
A = {1, 2, 3}
k = 2
In [14]:
# перестановки довжини k множини A
permute_k = list(permutations(A, k))
print("Перестановки довжини {} множини {}: {}".format(k,A,permute_k))
print("Кількість таких перестановок: {}".format(len(permute_k)))
Перестановки довжини 2 множини {1, 2, 3}: [(1, 2), (1, 3), (2, 1), (2, 3), (3, 1), (3, 2)]
Кількість таких перестановок: 6
2.2 Задача
Нехай $n$ - розмір множини, $k$ - розмір перестановок. Виведіть всі можливі часткові перестановки та порахуйте їх кількість для таких параметрів:

$n = 4, k = 2$
$n = 4, k = 3$
$n = 5, k = 2$
Порахуйте кількість часткових перестановок для таких параметрів:

$n = 6, k = 2$
$n = 6, k = 4$
$n = 8, k = 4$
In [12]:
# Місце для Вашого коду
for n, k in [(4, 2), (4, 3), (5, 2)]:
    print("\nall possible permutaions of {} with {} elements:".format(list(range(1, n+1)), k))
    tmp = set(permutations(range(1, n+1), k))
    print(tmp)
    print("amount =", len(tmp))


for n, k in [(6, 2), (6, 4), (8, 4)]:
    print("\namount of all possible permutaions of {} with {} elements:".format(list(range(1, n+1)), k))
    tmp = set(permutations(range(1, n+1), k))
    print(len(tmp))
all possible permutaions of [1, 2, 3, 4] with 2 elements:
{(1, 2), (3, 2), (1, 3), (4, 1), (3, 1), (2, 1), (1, 4), (2, 3), (4, 3), (4, 2), (3, 4), (2, 4)}
amount = 12

all possible permutaions of [1, 2, 3, 4] with 3 elements:
{(1, 3, 2), (4, 3, 2), (3, 4, 1), (1, 4, 2), (2, 4, 1), (3, 4, 2), (2, 3, 1), (1, 4, 3), (4, 3, 1), (2, 4, 3), (3, 1, 4), (3, 1, 2), (3, 2, 1), (2, 1, 4), (1, 2, 3), (1, 2, 4), (4, 1, 2), (2, 1, 3), (3, 2, 4), (4, 1, 3), (4, 2, 1), (1, 3, 4), (2, 3, 4), (4, 2, 3)}
amount = 24

all possible permutaions of [1, 2, 3, 4, 5] with 2 elements:
{(1, 3), (2, 1), (5, 1), (2, 5), (1, 2), (1, 5), (3, 4), (4, 1), (3, 2), (5, 4), (4, 5), (1, 4), (2, 3), (4, 2), (5, 3), (3, 5), (3, 1), (4, 3), (5, 2), (2, 4)}
amount = 20

amount of all possible permutaions of [1, 2, 3, 4, 5, 6] with 2 elements:
30

amount of all possible permutaions of [1, 2, 3, 4, 5, 6] with 4 elements:
360

amount of all possible permutaions of [1, 2, 3, 4, 5, 6, 7, 8] with 4 elements:
1680
3 Комбінації без повторень
3.1 Використовуючи бібліотеку itertools
In [32]:
from itertools import combinations
In [33]:
A = {1, 2, 3}
k = 2
In [34]:
# комбінації довжини k множини A
choose_k = list(combinations(A,k))
print("Комбінації довжини {} множини {}: {}".format(k,A,choose_k))
print("Кількість таких комбінацій: {}".format(len(choose_k)  ))
Комбінації довжини 2 множини {1, 2, 3}: [(1, 2), (1, 3), (2, 3)]
Кількість таких комбінацій: 3
3.2 Задача
Нехай $n$ - розмір множини, $k$ - розмір комбінацій. Виведіть всі можливі комбінації без повторень та порахуйте їх кількість для таких параметрів:

$n = 4, k = 2$
$n = 4, k = 3$
$n = 5, k = 2$
Порахуйте кількість комбінацій без повторень для таких параметрів:

$n = 6, k = 2$
$n = 6, k = 4$
$n = 8, k = 4$
In [35]:
# Місце для Вашого коду
for n, k in [(4, 2), (4, 3), (5, 2)]:
    print("\nall possible combinations of {} with {} elements:".format(list(range(1, n+1)), k))
    tmp = set(combinations(range(1, n+1), k))
    print(tmp)
    print("amount =", len(tmp))


for n, k in [(6, 2), (6, 4), (8, 4)]:
    print("\namount of all possible combinations of {} with {} elements:".format(list(range(1, n+1)), k))
    tmp = set(combinations(range(1, n+1), k))
    print(len(tmp))
all possible combinations of [1, 2, 3, 4] with 2 elements:
{(1, 2), (1, 3), (1, 4), (2, 3), (3, 4), (2, 4)}
amount = 6

all possible combinations of [1, 2, 3, 4] with 3 elements:
{(1, 3, 4), (2, 3, 4), (1, 2, 4), (1, 2, 3)}
amount = 4

all possible combinations of [1, 2, 3, 4, 5] with 2 elements:
{(1, 2), (1, 3), (4, 5), (1, 4), (1, 5), (2, 3), (2, 5), (3, 4), (2, 4), (3, 5)}
amount = 10

amount of all possible combinations of [1, 2, 3, 4, 5, 6] with 2 elements:
15

amount of all possible combinations of [1, 2, 3, 4, 5, 6] with 4 elements:
15

amount of all possible combinations of [1, 2, 3, 4, 5, 6, 7, 8] with 4 elements:
70
3.3 Задача
Нехай $A$ - множина з $10$ елементів, кожен з яких є цілим числом від $1$ до $20$. Тобто$$A = \{ a_i \}_{i = 1}^{10},\\ 1 \leq a_i \leq 20, \quad i = 1, \ldots, 10.$$Скільки елементів може бути в множині, яка складається із попарних сум елементів множини $A$?$$B = \{ b_k \, \colon \, b_k = a_i + a_j, \quad a_i, a_j \in A, \, 1 \leq i, j \leq 10, \, i \neq j \}_{k = 1}^{\textbf{?}}$$

In [ ]:
# Місце для Вашого коду

print("all posible amounts of all pairwise sums:")
used = set()
for tmp in permutations(range(1, 26), 10):
    tmp = frozenset([tmp[i] + tmp[j] for i in range(10) for j in range(10) if i != j])
    used.add(len(tmp))
    
print(used)
all posible amounts of all pairwise sums:
4 Комбінації з повтореннями
4.1 Використовуючи бібліотеку itertools
In [26]:
from itertools import combinations_with_replacement
In [27]:
A = {1, 2, 3}
k = 2
In [28]:
# комбінації довжини k множини A
choose_k = list(combinations_with_replacement(A,k))
print("Комбінації довжини {} множини {}: {}".format(k,A,choose_k))
print("Кількість таких комбінацій: {}".format(len(choose_k)  ))
Комбінації довжини 2 множини {1, 2, 3}: [(1, 1), (1, 2), (1, 3), (2, 2), (2, 3), (3, 3)]
Кількість таких комбінацій: 6
4.2 Задача
Нехай $n$ - розмір множини, $k$ - розмір комбінацій. Виведіть всі можливі комбінації з повтореннями та порахуйте їх кількість для таких параметрів:

$n = 4, k = 2$
$n = 4, k = 3$
$n = 5, k = 2$
Порахуйте кількість комбінацій з повтореннями для таких параметрів:

$n = 6, k = 2$
$n = 6, k = 4$
$n = 8, k = 4$
In [29]:
# Місце для Вашого коду
for n, k in [(4, 2), (4, 3), (5, 2)]:
    print("\nall possible combinations with replacement of {} with {} elements:".format(list(range(1, n+1)), k))
    tmp = set(combinations_with_replacement(range(1, n+1), k))
    print(tmp)
    print("amount =", len(tmp))


for n, k in [(6, 2), (6, 4), (8, 4)]:
    print("\namount of all possible combinations with replacement of {} with {} elements:".format(list(range(1, n+1)), k))
    tmp = set(combinations_with_replacement(range(1, n+1), k))
    print(len(tmp))
all possible combinations with replacement of [1, 2, 3, 4] with 2 elements:
{(1, 2), (1, 3), (3, 3), (4, 4), (1, 4), (2, 4), (2, 3), (2, 2), (3, 4), (1, 1)}
amount = 10

all possible combinations with replacement of [1, 2, 3, 4] with 3 elements:
{(1, 4, 4), (2, 2, 4), (3, 3, 3), (2, 3, 3), (3, 3, 4), (2, 4, 4), (1, 2, 2), (1, 2, 3), (1, 2, 4), (2, 2, 3), (1, 1, 1), (2, 2, 2), (1, 1, 3), (1, 1, 2), (4, 4, 4), (3, 4, 4), (1, 3, 4), (2, 3, 4), (1, 1, 4), (1, 3, 3)}
amount = 20

all possible combinations with replacement of [1, 2, 3, 4, 5] with 2 elements:
{(1, 2), (1, 3), (3, 3), (5, 5), (4, 5), (4, 4), (1, 4), (1, 5), (2, 4), (2, 3), (2, 2), (2, 5), (3, 4), (1, 1), (3, 5)}
amount = 15

amount of all possible combinations with replacement of [1, 2, 3, 4, 5, 6] with 2 elements:
21

amount of all possible combinations with replacement of [1, 2, 3, 4, 5, 6] with 4 elements:
126

amount of all possible combinations with replacement of [1, 2, 3, 4, 5, 6, 7, 8] with 4 elements:
330
4.3 Задача
Скільки існує 6-цифрових наборів таких, що сума перших трьох цифр дорівнює сумі останніх трьох?

Зауваження 1. В задачі фігурують 6-цифрові набори, а не числа. Тобто перша цифра може дорівнювати $0$.

Зауваження 2. Задача передбачає використання функції product.

In [30]:
# Місце для Вашого коду
from itertools import product

amount = 0
for el in product(range(10), repeat=6):
    if sum(el[:3]) == sum(el[3:]):
        amount += 1
print("amount:", amount)
amount: 55252
4.4 Задача
Скільки існує 6-цифрових чисел, в яких дві однакові цифри не стоять поряд?

Зауваження 1. В задачі фігурують 6-цифрові числа, тобто перша цифра не може дорівнювати $0$.

Зауваження 2. Задача передбачає використання функції product.

In [31]:
# Місце для Вашого коду
amount = 0
for el in product(range(10), repeat=6):
    succ = True
    for i in range(5):
        if el[i] == el[i+1]:
            succ = False
            break
    if succ:
        amount += 1

print("amount =", amount)
amount = 590490
In [ ]:
